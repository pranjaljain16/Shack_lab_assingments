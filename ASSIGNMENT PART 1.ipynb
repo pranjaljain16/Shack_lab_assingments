{
 "cells": [
  {
   "cell_type": "markdown",
   "id": "6acc4914",
   "metadata": {},
   "source": [
    "## IMPORTING LIBRARIES"
   ]
  },
  {
   "cell_type": "code",
   "execution_count": 1,
   "id": "72da8931",
   "metadata": {},
   "outputs": [],
   "source": [
    "import pandas as pd\n",
    "import numpy as np\n",
    "import matplotlib.pyplot as plt\n",
    "import seaborn as sns\n",
    "\n",
    "\n",
    "from scipy import stats\n",
    "import statsmodels.api as sm\n",
    "\n",
    "# to suppress warnings \n",
    "from warnings import filterwarnings\n",
    "filterwarnings('ignore')"
   ]
  },
  {
   "cell_type": "markdown",
   "id": "24c63060",
   "metadata": {},
   "source": [
    "## BASIC ANALYSIS"
   ]
  },
  {
   "cell_type": "code",
   "execution_count": 2,
   "id": "e63ab9c8",
   "metadata": {
    "scrolled": true
   },
   "outputs": [
    {
     "data": {
      "text/html": [
       "<div>\n",
       "<style scoped>\n",
       "    .dataframe tbody tr th:only-of-type {\n",
       "        vertical-align: middle;\n",
       "    }\n",
       "\n",
       "    .dataframe tbody tr th {\n",
       "        vertical-align: top;\n",
       "    }\n",
       "\n",
       "    .dataframe thead th {\n",
       "        text-align: right;\n",
       "    }\n",
       "</style>\n",
       "<table border=\"1\" class=\"dataframe\">\n",
       "  <thead>\n",
       "    <tr style=\"text-align: right;\">\n",
       "      <th></th>\n",
       "      <th>Transaction date</th>\n",
       "      <th>House Age</th>\n",
       "      <th>Distance from nearest Metro station (km)</th>\n",
       "      <th>Number of convenience stores</th>\n",
       "      <th>latitude</th>\n",
       "      <th>longitude</th>\n",
       "      <th>Number of bedrooms</th>\n",
       "      <th>House size (sqft)</th>\n",
       "      <th>House price of unit area</th>\n",
       "    </tr>\n",
       "  </thead>\n",
       "  <tbody>\n",
       "    <tr>\n",
       "      <th>0</th>\n",
       "      <td>2012.916667</td>\n",
       "      <td>32.0</td>\n",
       "      <td>84.87882</td>\n",
       "      <td>10</td>\n",
       "      <td>24.98298</td>\n",
       "      <td>121.54024</td>\n",
       "      <td>1</td>\n",
       "      <td>575</td>\n",
       "      <td>37.9</td>\n",
       "    </tr>\n",
       "    <tr>\n",
       "      <th>1</th>\n",
       "      <td>2012.916667</td>\n",
       "      <td>19.5</td>\n",
       "      <td>306.59470</td>\n",
       "      <td>9</td>\n",
       "      <td>24.98034</td>\n",
       "      <td>121.53951</td>\n",
       "      <td>2</td>\n",
       "      <td>1240</td>\n",
       "      <td>42.2</td>\n",
       "    </tr>\n",
       "    <tr>\n",
       "      <th>2</th>\n",
       "      <td>2013.583333</td>\n",
       "      <td>13.3</td>\n",
       "      <td>561.98450</td>\n",
       "      <td>5</td>\n",
       "      <td>24.98746</td>\n",
       "      <td>121.54391</td>\n",
       "      <td>3</td>\n",
       "      <td>1060</td>\n",
       "      <td>47.3</td>\n",
       "    </tr>\n",
       "    <tr>\n",
       "      <th>3</th>\n",
       "      <td>2013.500000</td>\n",
       "      <td>13.3</td>\n",
       "      <td>561.98450</td>\n",
       "      <td>5</td>\n",
       "      <td>24.98746</td>\n",
       "      <td>121.54391</td>\n",
       "      <td>2</td>\n",
       "      <td>875</td>\n",
       "      <td>54.8</td>\n",
       "    </tr>\n",
       "    <tr>\n",
       "      <th>4</th>\n",
       "      <td>2012.833333</td>\n",
       "      <td>5.0</td>\n",
       "      <td>390.56840</td>\n",
       "      <td>5</td>\n",
       "      <td>24.97937</td>\n",
       "      <td>121.54245</td>\n",
       "      <td>1</td>\n",
       "      <td>491</td>\n",
       "      <td>43.1</td>\n",
       "    </tr>\n",
       "  </tbody>\n",
       "</table>\n",
       "</div>"
      ],
      "text/plain": [
       "   Transaction date  House Age  Distance from nearest Metro station (km)  \\\n",
       "0       2012.916667       32.0                                  84.87882   \n",
       "1       2012.916667       19.5                                 306.59470   \n",
       "2       2013.583333       13.3                                 561.98450   \n",
       "3       2013.500000       13.3                                 561.98450   \n",
       "4       2012.833333        5.0                                 390.56840   \n",
       "\n",
       "   Number of convenience stores  latitude  longitude  Number of bedrooms  \\\n",
       "0                            10  24.98298  121.54024                   1   \n",
       "1                             9  24.98034  121.53951                   2   \n",
       "2                             5  24.98746  121.54391                   3   \n",
       "3                             5  24.98746  121.54391                   2   \n",
       "4                             5  24.97937  121.54245                   1   \n",
       "\n",
       "   House size (sqft)  House price of unit area  \n",
       "0                575                      37.9  \n",
       "1               1240                      42.2  \n",
       "2               1060                      47.3  \n",
       "3                875                      54.8  \n",
       "4                491                      43.1  "
      ]
     },
     "execution_count": 2,
     "metadata": {},
     "output_type": "execute_result"
    }
   ],
   "source": [
    "df = pd.read_excel('DS - Assignment Part 1 data set.xlsx')\n",
    "df.head()"
   ]
  },
  {
   "cell_type": "code",
   "execution_count": 3,
   "id": "b9b00e35",
   "metadata": {},
   "outputs": [
    {
     "data": {
      "text/plain": [
       "Transaction date                            0\n",
       "House Age                                   0\n",
       "Distance from nearest Metro station (km)    0\n",
       "Number of convenience stores                0\n",
       "latitude                                    0\n",
       "longitude                                   0\n",
       "Number of bedrooms                          0\n",
       "House size (sqft)                           0\n",
       "House price of unit area                    0\n",
       "dtype: int64"
      ]
     },
     "execution_count": 3,
     "metadata": {},
     "output_type": "execute_result"
    }
   ],
   "source": [
    "df.isnull().sum()"
   ]
  },
  {
   "cell_type": "raw",
   "id": "7cfd8821",
   "metadata": {},
   "source": [
    "# so we can see that the dataset does not contain any null values."
   ]
  },
  {
   "cell_type": "code",
   "execution_count": 4,
   "id": "907f47ec",
   "metadata": {},
   "outputs": [
    {
     "data": {
      "text/html": [
       "<div>\n",
       "<style scoped>\n",
       "    .dataframe tbody tr th:only-of-type {\n",
       "        vertical-align: middle;\n",
       "    }\n",
       "\n",
       "    .dataframe tbody tr th {\n",
       "        vertical-align: top;\n",
       "    }\n",
       "\n",
       "    .dataframe thead th {\n",
       "        text-align: right;\n",
       "    }\n",
       "</style>\n",
       "<table border=\"1\" class=\"dataframe\">\n",
       "  <thead>\n",
       "    <tr style=\"text-align: right;\">\n",
       "      <th></th>\n",
       "      <th>Transaction date</th>\n",
       "      <th>House Age</th>\n",
       "      <th>Distance from nearest Metro station (km)</th>\n",
       "      <th>Number of convenience stores</th>\n",
       "      <th>latitude</th>\n",
       "      <th>longitude</th>\n",
       "      <th>Number of bedrooms</th>\n",
       "      <th>House size (sqft)</th>\n",
       "      <th>House price of unit area</th>\n",
       "    </tr>\n",
       "  </thead>\n",
       "  <tbody>\n",
       "  </tbody>\n",
       "</table>\n",
       "</div>"
      ],
      "text/plain": [
       "Empty DataFrame\n",
       "Columns: [Transaction date, House Age, Distance from nearest Metro station (km), Number of convenience stores, latitude, longitude, Number of bedrooms, House size (sqft), House price of unit area]\n",
       "Index: []"
      ]
     },
     "execution_count": 4,
     "metadata": {},
     "output_type": "execute_result"
    }
   ],
   "source": [
    "df[df.duplicated()]"
   ]
  },
  {
   "cell_type": "raw",
   "id": "1c33447d",
   "metadata": {},
   "source": [
    "# there are no duplicated values in the dataset."
   ]
  },
  {
   "cell_type": "code",
   "execution_count": 5,
   "id": "043a3996",
   "metadata": {},
   "outputs": [
    {
     "name": "stdout",
     "output_type": "stream",
     "text": [
      "<class 'pandas.core.frame.DataFrame'>\n",
      "RangeIndex: 414 entries, 0 to 413\n",
      "Data columns (total 9 columns):\n",
      " #   Column                                    Non-Null Count  Dtype  \n",
      "---  ------                                    --------------  -----  \n",
      " 0   Transaction date                          414 non-null    float64\n",
      " 1   House Age                                 414 non-null    float64\n",
      " 2   Distance from nearest Metro station (km)  414 non-null    float64\n",
      " 3   Number of convenience stores              414 non-null    int64  \n",
      " 4   latitude                                  414 non-null    float64\n",
      " 5   longitude                                 414 non-null    float64\n",
      " 6   Number of bedrooms                        414 non-null    int64  \n",
      " 7   House size (sqft)                         414 non-null    int64  \n",
      " 8   House price of unit area                  414 non-null    float64\n",
      "dtypes: float64(6), int64(3)\n",
      "memory usage: 29.2 KB\n"
     ]
    }
   ],
   "source": [
    "df.info()"
   ]
  },
  {
   "cell_type": "raw",
   "id": "4d18cb0d",
   "metadata": {},
   "source": [
    "# we can see the transaction date is in float format so converting it to date time"
   ]
  },
  {
   "cell_type": "code",
   "execution_count": 6,
   "id": "0d478d1c",
   "metadata": {},
   "outputs": [],
   "source": [
    "from datetime import datetime\n",
    "df['Transaction date']=pd.to_datetime(df['Transaction date'])"
   ]
  },
  {
   "cell_type": "code",
   "execution_count": 7,
   "id": "5df9386d",
   "metadata": {},
   "outputs": [
    {
     "name": "stdout",
     "output_type": "stream",
     "text": [
      "<class 'pandas.core.frame.DataFrame'>\n",
      "RangeIndex: 414 entries, 0 to 413\n",
      "Data columns (total 9 columns):\n",
      " #   Column                                    Non-Null Count  Dtype         \n",
      "---  ------                                    --------------  -----         \n",
      " 0   Transaction date                          414 non-null    datetime64[ns]\n",
      " 1   House Age                                 414 non-null    float64       \n",
      " 2   Distance from nearest Metro station (km)  414 non-null    float64       \n",
      " 3   Number of convenience stores              414 non-null    int64         \n",
      " 4   latitude                                  414 non-null    float64       \n",
      " 5   longitude                                 414 non-null    float64       \n",
      " 6   Number of bedrooms                        414 non-null    int64         \n",
      " 7   House size (sqft)                         414 non-null    int64         \n",
      " 8   House price of unit area                  414 non-null    float64       \n",
      "dtypes: datetime64[ns](1), float64(5), int64(3)\n",
      "memory usage: 29.2 KB\n"
     ]
    }
   ],
   "source": [
    "df.info()"
   ]
  },
  {
   "cell_type": "raw",
   "id": "e16c25bd",
   "metadata": {},
   "source": [
    "the date and time of purchase of the house cannot help in having any insights about the house price hence , removing the column."
   ]
  },
  {
   "cell_type": "code",
   "execution_count": 8,
   "id": "2bf90966",
   "metadata": {},
   "outputs": [],
   "source": [
    "df = df.drop(df.columns[[0]], axis=1)"
   ]
  },
  {
   "cell_type": "code",
   "execution_count": 9,
   "id": "3bb1876e",
   "metadata": {},
   "outputs": [
    {
     "data": {
      "text/html": [
       "<div>\n",
       "<style scoped>\n",
       "    .dataframe tbody tr th:only-of-type {\n",
       "        vertical-align: middle;\n",
       "    }\n",
       "\n",
       "    .dataframe tbody tr th {\n",
       "        vertical-align: top;\n",
       "    }\n",
       "\n",
       "    .dataframe thead th {\n",
       "        text-align: right;\n",
       "    }\n",
       "</style>\n",
       "<table border=\"1\" class=\"dataframe\">\n",
       "  <thead>\n",
       "    <tr style=\"text-align: right;\">\n",
       "      <th></th>\n",
       "      <th>House Age</th>\n",
       "      <th>Distance from nearest Metro station (km)</th>\n",
       "      <th>Number of convenience stores</th>\n",
       "      <th>latitude</th>\n",
       "      <th>longitude</th>\n",
       "      <th>Number of bedrooms</th>\n",
       "      <th>House size (sqft)</th>\n",
       "      <th>House price of unit area</th>\n",
       "    </tr>\n",
       "  </thead>\n",
       "  <tbody>\n",
       "    <tr>\n",
       "      <th>0</th>\n",
       "      <td>32.0</td>\n",
       "      <td>84.87882</td>\n",
       "      <td>10</td>\n",
       "      <td>24.98298</td>\n",
       "      <td>121.54024</td>\n",
       "      <td>1</td>\n",
       "      <td>575</td>\n",
       "      <td>37.9</td>\n",
       "    </tr>\n",
       "    <tr>\n",
       "      <th>1</th>\n",
       "      <td>19.5</td>\n",
       "      <td>306.59470</td>\n",
       "      <td>9</td>\n",
       "      <td>24.98034</td>\n",
       "      <td>121.53951</td>\n",
       "      <td>2</td>\n",
       "      <td>1240</td>\n",
       "      <td>42.2</td>\n",
       "    </tr>\n",
       "    <tr>\n",
       "      <th>2</th>\n",
       "      <td>13.3</td>\n",
       "      <td>561.98450</td>\n",
       "      <td>5</td>\n",
       "      <td>24.98746</td>\n",
       "      <td>121.54391</td>\n",
       "      <td>3</td>\n",
       "      <td>1060</td>\n",
       "      <td>47.3</td>\n",
       "    </tr>\n",
       "    <tr>\n",
       "      <th>3</th>\n",
       "      <td>13.3</td>\n",
       "      <td>561.98450</td>\n",
       "      <td>5</td>\n",
       "      <td>24.98746</td>\n",
       "      <td>121.54391</td>\n",
       "      <td>2</td>\n",
       "      <td>875</td>\n",
       "      <td>54.8</td>\n",
       "    </tr>\n",
       "    <tr>\n",
       "      <th>4</th>\n",
       "      <td>5.0</td>\n",
       "      <td>390.56840</td>\n",
       "      <td>5</td>\n",
       "      <td>24.97937</td>\n",
       "      <td>121.54245</td>\n",
       "      <td>1</td>\n",
       "      <td>491</td>\n",
       "      <td>43.1</td>\n",
       "    </tr>\n",
       "  </tbody>\n",
       "</table>\n",
       "</div>"
      ],
      "text/plain": [
       "   House Age  Distance from nearest Metro station (km)  \\\n",
       "0       32.0                                  84.87882   \n",
       "1       19.5                                 306.59470   \n",
       "2       13.3                                 561.98450   \n",
       "3       13.3                                 561.98450   \n",
       "4        5.0                                 390.56840   \n",
       "\n",
       "   Number of convenience stores  latitude  longitude  Number of bedrooms  \\\n",
       "0                            10  24.98298  121.54024                   1   \n",
       "1                             9  24.98034  121.53951                   2   \n",
       "2                             5  24.98746  121.54391                   3   \n",
       "3                             5  24.98746  121.54391                   2   \n",
       "4                             5  24.97937  121.54245                   1   \n",
       "\n",
       "   House size (sqft)  House price of unit area  \n",
       "0                575                      37.9  \n",
       "1               1240                      42.2  \n",
       "2               1060                      47.3  \n",
       "3                875                      54.8  \n",
       "4                491                      43.1  "
      ]
     },
     "execution_count": 9,
     "metadata": {},
     "output_type": "execute_result"
    }
   ],
   "source": [
    "df.head()"
   ]
  },
  {
   "cell_type": "markdown",
   "id": "2bcf61a8",
   "metadata": {},
   "source": [
    "## VISUAL ANALYSIS"
   ]
  },
  {
   "cell_type": "code",
   "execution_count": 10,
   "id": "5feafa0a",
   "metadata": {},
   "outputs": [
    {
     "data": {
      "text/plain": [
       "<AxesSubplot:>"
      ]
     },
     "execution_count": 10,
     "metadata": {},
     "output_type": "execute_result"
    },
    {
     "data": {
      "image/png": "[encoded data removed]",
      "text/plain": [
       "<Figure size 720x432 with 2 Axes>"
      ]
     },
     "metadata": {
      "needs_background": "light"
     },
     "output_type": "display_data"
    }
   ],
   "source": [
    "plt.figure(figsize=(10,6))\n",
    "sns.heatmap(df.corr(),annot=True)"
   ]
  },
  {
   "cell_type": "raw",
   "id": "e5d7b62b",
   "metadata": {},
   "source": [
    "we can conclude :\n",
    "\n",
    "# distance from nearest metro station shows high negative correlation with house price which means that lesser the distance of house to metro station ,more the price of the house is.\n",
    "\n",
    "# number of convenience stores shows postive correlation which indicates , the more the number of stores around the house the more is the price of the house .\n",
    "\n",
    "# longitude and latitude is the location of the house which is an obvious important factor that affects the price of the house\n",
    "\n",
    "# though house size shows medium correlation , still it seems important factor for house price.\n",
    "\n",
    "# as the house age shows low negative correlation , we should still keep the variable as the older the house the lesser the house should be priced."
   ]
  },
  {
   "cell_type": "code",
   "execution_count": 11,
   "id": "97c965c9",
   "metadata": {},
   "outputs": [
    {
     "data": {
      "text/plain": [
       "Text(0.5, 1.0, 'location of the houses')"
      ]
     },
     "execution_count": 11,
     "metadata": {},
     "output_type": "execute_result"
    },
    {
     "data": {
      "image/png": "[encoded data removed]",
      "text/plain": [
       "<Figure size 648x360 with 1 Axes>"
      ]
     },
     "metadata": {
      "needs_background": "light"
     },
     "output_type": "display_data"
    }
   ],
   "source": [
    "plt.figure(figsize=(9,5))\n",
    "sns.scatterplot(df['latitude'],df['longitude'])\n",
    "plt.title('location of the houses')"
   ]
  },
  {
   "cell_type": "code",
   "execution_count": 12,
   "id": "48fe1ee1",
   "metadata": {
    "scrolled": false
   },
   "outputs": [
    {
     "data": {
      "text/plain": [
       "Text(0.5, 1.0, 'Distance from nearest Metro station (km) vs Price')"
      ]
     },
     "execution_count": 12,
     "metadata": {},
     "output_type": "execute_result"
    },
    {
     "data": {
      "image/png": "[encoded data removed]",
      "text/plain": [
       "<Figure size 648x360 with 1 Axes>"
      ]
     },
     "metadata": {
      "needs_background": "light"
     },
     "output_type": "display_data"
    }
   ],
   "source": [
    "plt.figure(figsize=(9,5))\n",
    "sns.scatterplot(df['Distance from nearest Metro station (km)'],df['House price of unit area'])\n",
    "plt.title('Distance from nearest Metro station (km) vs Price')"
   ]
  },
  {
   "cell_type": "raw",
   "id": "89a9c65b",
   "metadata": {},
   "source": [
    "The lesser the distance is from metro station the higher the price can go."
   ]
  },
  {
   "cell_type": "code",
   "execution_count": 13,
   "id": "8cf10d25",
   "metadata": {},
   "outputs": [
    {
     "data": {
      "text/plain": [
       "Text(0.5, 1.0, 'Number of convenience stores vs Price')"
      ]
     },
     "execution_count": 13,
     "metadata": {},
     "output_type": "execute_result"
    },
    {
     "data": {
      "image/png": "[encoded data removed]",
      "text/plain": [
       "<Figure size 648x360 with 1 Axes>"
      ]
     },
     "metadata": {
      "needs_background": "light"
     },
     "output_type": "display_data"
    }
   ],
   "source": [
    "plt.figure(figsize=(9,5))\n",
    "sns.barplot(df['Number of convenience stores'],df['House price of unit area'])\n",
    "plt.title('Number of convenience stores vs Price')"
   ]
  },
  {
   "cell_type": "raw",
   "id": "15ab673d",
   "metadata": {},
   "source": [
    "the more the Number of convenience stores around the higher is the price."
   ]
  },
  {
   "cell_type": "code",
   "execution_count": 14,
   "id": "b098ae37",
   "metadata": {},
   "outputs": [
    {
     "data": {
      "image/png": "[encoded data removed]",
      "text/plain": [
       "<Figure size 504x288 with 1 Axes>"
      ]
     },
     "metadata": {
      "needs_background": "light"
     },
     "output_type": "display_data"
    }
   ],
   "source": [
    "import scipy.stats as st\n",
    "import pylab\n",
    "\n",
    "plt.rcParams[\"figure.figsize\"] = [7.00, 4.00]\n",
    "st.probplot(df['House price of unit area'],dist = \"norm\",plot = pylab);"
   ]
  },
  {
   "cell_type": "raw",
   "id": "78d49b45",
   "metadata": {},
   "source": [
    "from this we can infer that the target variable is quite normally distributed."
   ]
  },
  {
   "cell_type": "markdown",
   "id": "bee98d78",
   "metadata": {},
   "source": [
    "### BEFORE REMOVING OUTLIERS"
   ]
  },
  {
   "cell_type": "code",
   "execution_count": 15,
   "id": "d9d52eab",
   "metadata": {},
   "outputs": [
    {
     "data": {
      "text/html": [
       "<table class=\"simpletable\">\n",
       "<caption>OLS Regression Results</caption>\n",
       "<tr>\n",
       "  <th>Dep. Variable:</th>    <td>House price of unit area</td> <th>  R-squared:         </th> <td>   0.572</td>\n",
       "</tr>\n",
       "<tr>\n",
       "  <th>Model:</th>                       <td>OLS</td>           <th>  Adj. R-squared:    </th> <td>   0.564</td>\n",
       "</tr>\n",
       "<tr>\n",
       "  <th>Method:</th>                 <td>Least Squares</td>      <th>  F-statistic:       </th> <td>   77.37</td>\n",
       "</tr>\n",
       "<tr>\n",
       "  <th>Date:</th>                 <td>Sun, 04 Dec 2022</td>     <th>  Prob (F-statistic):</th> <td>8.50e-71</td>\n",
       "</tr>\n",
       "<tr>\n",
       "  <th>Time:</th>                     <td>17:33:20</td>         <th>  Log-Likelihood:    </th> <td> -1492.3</td>\n",
       "</tr>\n",
       "<tr>\n",
       "  <th>No. Observations:</th>          <td>   414</td>          <th>  AIC:               </th> <td>   3001.</td>\n",
       "</tr>\n",
       "<tr>\n",
       "  <th>Df Residuals:</th>              <td>   406</td>          <th>  BIC:               </th> <td>   3033.</td>\n",
       "</tr>\n",
       "<tr>\n",
       "  <th>Df Model:</th>                  <td>     7</td>          <th>                     </th>     <td> </td>   \n",
       "</tr>\n",
       "<tr>\n",
       "  <th>Covariance Type:</th>          <td>nonrobust</td>        <th>                     </th>     <td> </td>   \n",
       "</tr>\n",
       "</table>\n",
       "<table class=\"simpletable\">\n",
       "<tr>\n",
       "                      <td></td>                        <th>coef</th>     <th>std err</th>      <th>t</th>      <th>P>|t|</th>  <th>[0.025</th>    <th>0.975]</th>  \n",
       "</tr>\n",
       "<tr>\n",
       "  <th>const</th>                                    <td>-4816.9273</td> <td> 6227.332</td> <td>   -0.774</td> <td> 0.440</td> <td>-1.71e+04</td> <td> 7424.913</td>\n",
       "</tr>\n",
       "<tr>\n",
       "  <th>House Age</th>                                <td>   -0.2670</td> <td>    0.039</td> <td>   -6.805</td> <td> 0.000</td> <td>   -0.344</td> <td>   -0.190</td>\n",
       "</tr>\n",
       "<tr>\n",
       "  <th>Distance from nearest Metro station (km)</th> <td>   -0.0043</td> <td>    0.001</td> <td>   -5.899</td> <td> 0.000</td> <td>   -0.006</td> <td>   -0.003</td>\n",
       "</tr>\n",
       "<tr>\n",
       "  <th>Number of convenience stores</th>             <td>    1.1573</td> <td>    0.191</td> <td>    6.065</td> <td> 0.000</td> <td>    0.782</td> <td>    1.533</td>\n",
       "</tr>\n",
       "<tr>\n",
       "  <th>latitude</th>                                 <td>  236.4899</td> <td>   45.088</td> <td>    5.245</td> <td> 0.000</td> <td>  147.854</td> <td>  325.125</td>\n",
       "</tr>\n",
       "<tr>\n",
       "  <th>longitude</th>                                <td>   -8.6067</td> <td>   49.266</td> <td>   -0.175</td> <td> 0.861</td> <td> -105.455</td> <td>   88.241</td>\n",
       "</tr>\n",
       "<tr>\n",
       "  <th>Number of bedrooms</th>                       <td>   -0.1663</td> <td>    0.823</td> <td>   -0.202</td> <td> 0.840</td> <td>   -1.785</td> <td>    1.452</td>\n",
       "</tr>\n",
       "<tr>\n",
       "  <th>House size (sqft)</th>                        <td>    0.0010</td> <td>    0.002</td> <td>    0.527</td> <td> 0.599</td> <td>   -0.003</td> <td>    0.005</td>\n",
       "</tr>\n",
       "</table>\n",
       "<table class=\"simpletable\">\n",
       "<tr>\n",
       "  <th>Omnibus:</th>       <td>237.529</td> <th>  Durbin-Watson:     </th> <td>   2.148</td>\n",
       "</tr>\n",
       "<tr>\n",
       "  <th>Prob(Omnibus):</th> <td> 0.000</td>  <th>  Jarque-Bera (JB):  </th> <td>3628.444</td>\n",
       "</tr>\n",
       "<tr>\n",
       "  <th>Skew:</th>          <td> 2.105</td>  <th>  Prob(JB):          </th> <td>    0.00</td>\n",
       "</tr>\n",
       "<tr>\n",
       "  <th>Kurtosis:</th>      <td>16.879</td>  <th>  Cond. No.          </th> <td>2.54e+07</td>\n",
       "</tr>\n",
       "</table><br/><br/>Notes:<br/>[1] Standard Errors assume that the covariance matrix of the errors is correctly specified.<br/>[2] The condition number is large, 2.54e+07. This might indicate that there are<br/>strong multicollinearity or other numerical problems."
      ],
      "text/plain": [
       "<class 'statsmodels.iolib.summary.Summary'>\n",
       "\"\"\"\n",
       "                               OLS Regression Results                               \n",
       "====================================================================================\n",
       "Dep. Variable:     House price of unit area   R-squared:                       0.572\n",
       "Model:                                  OLS   Adj. R-squared:                  0.564\n",
       "Method:                       Least Squares   F-statistic:                     77.37\n",
       "Date:                      Sun, 04 Dec 2022   Prob (F-statistic):           8.50e-71\n",
       "Time:                              17:33:20   Log-Likelihood:                -1492.3\n",
       "No. Observations:                       414   AIC:                             3001.\n",
       "Df Residuals:                           406   BIC:                             3033.\n",
       "Df Model:                                 7                                         \n",
       "Covariance Type:                  nonrobust                                         \n",
       "============================================================================================================\n",
       "                                               coef    std err          t      P>|t|      [0.025      0.975]\n",
       "------------------------------------------------------------------------------------------------------------\n",
       "const                                    -4816.9273   6227.332     -0.774      0.440   -1.71e+04    7424.913\n",
       "House Age                                   -0.2670      0.039     -6.805      0.000      -0.344      -0.190\n",
       "Distance from nearest Metro station (km)    -0.0043      0.001     -5.899      0.000      -0.006      -0.003\n",
       "Number of convenience stores                 1.1573      0.191      6.065      0.000       0.782       1.533\n",
       "latitude                                   236.4899     45.088      5.245      0.000     147.854     325.125\n",
       "longitude                                   -8.6067     49.266     -0.175      0.861    -105.455      88.241\n",
       "Number of bedrooms                          -0.1663      0.823     -0.202      0.840      -1.785       1.452\n",
       "House size (sqft)                            0.0010      0.002      0.527      0.599      -0.003       0.005\n",
       "==============================================================================\n",
       "Omnibus:                      237.529   Durbin-Watson:                   2.148\n",
       "Prob(Omnibus):                  0.000   Jarque-Bera (JB):             3628.444\n",
       "Skew:                           2.105   Prob(JB):                         0.00\n",
       "Kurtosis:                      16.879   Cond. No.                     2.54e+07\n",
       "==============================================================================\n",
       "\n",
       "Notes:\n",
       "[1] Standard Errors assume that the covariance matrix of the errors is correctly specified.\n",
       "[2] The condition number is large, 2.54e+07. This might indicate that there are\n",
       "strong multicollinearity or other numerical problems.\n",
       "\"\"\""
      ]
     },
     "execution_count": 15,
     "metadata": {},
     "output_type": "execute_result"
    }
   ],
   "source": [
    "# using ols model\n",
    "\n",
    "x = df.drop(['House price of unit area'],axis=1)  # Independent Variable \n",
    "y = df['House price of unit area']                # Dependent Variable\n",
    "Xc = sm.add_constant(x)                           # Constant  \n",
    "lr_model = sm.OLS(y,Xc).fit()                     # Model fitting\n",
    "\n",
    "lr_model.summary()"
   ]
  },
  {
   "cell_type": "raw",
   "id": "e0c2cd4b",
   "metadata": {},
   "source": [
    "# before removing the outliers we a re getting r squared value of 0.572."
   ]
  },
  {
   "cell_type": "markdown",
   "id": "f0f6d80b",
   "metadata": {},
   "source": [
    "## REMOVING OUTLIERS"
   ]
  },
  {
   "cell_type": "code",
   "execution_count": 16,
   "id": "dc432ace",
   "metadata": {},
   "outputs": [
    {
     "data": {
      "image/png": "[encoded data removed]",
      "text/plain": [
       "<Figure size 720x576 with 1 Axes>"
      ]
     },
     "metadata": {
      "needs_background": "light"
     },
     "output_type": "display_data"
    }
   ],
   "source": [
    "# set the plot size using figure()\n",
    "# pass width and height in inches to 'figsize' \n",
    "plt.figure(figsize = (10,8))\n",
    "\n",
    "# plot a boxplot to visualize the outliers in all the numeric variables\n",
    "df.boxplot()\n",
    "\n",
    "# set plot label\n",
    "# set text size using 'fontsize'\n",
    "plt.title('Distribution of all Numeric Variables', fontsize = 15)\n",
    "\n",
    "# xticks() returns the x-axis ticks\n",
    "# 'rotation = vertical' rotates the x-axis labels vertically\n",
    "plt.xticks(rotation = 'vertical', fontsize = 15)\n",
    "\n",
    "# display the plot\n",
    "plt.show()"
   ]
  },
  {
   "cell_type": "code",
   "execution_count": 17,
   "id": "7d091556",
   "metadata": {},
   "outputs": [
    {
     "data": {
      "text/plain": [
       "(414, 8)"
      ]
     },
     "execution_count": 17,
     "metadata": {},
     "output_type": "execute_result"
    }
   ],
   "source": [
    "# before outlier treatement\n",
    "df.shape"
   ]
  },
  {
   "cell_type": "code",
   "execution_count": 18,
   "id": "65c4df9e",
   "metadata": {},
   "outputs": [],
   "source": [
    "# compute the first quartile using quantile(0.25)\n",
    "# use .drop() to drop the target variable \n",
    "# axis=1: specifies that the labels are dropped from the columns\n",
    "Q1 = df.drop(['House price of unit area'], axis=1).quantile(0.25)\n",
    "\n",
    "# compute the first quartile using quantile(0.75)\n",
    "# use .drop() to drop the target variable \n",
    "# axis=1: specifies that the labels are dropped from the columns\n",
    "Q3 = df.drop(['House price of unit area'], axis=1).quantile(0.75)\n",
    "\n",
    "# calculate of interquartile range \n",
    "IQR = Q3 - Q1"
   ]
  },
  {
   "cell_type": "code",
   "execution_count": 19,
   "id": "69f7b95e",
   "metadata": {},
   "outputs": [
    {
     "data": {
      "text/plain": [
       "(374, 8)"
      ]
     },
     "execution_count": 19,
     "metadata": {},
     "output_type": "execute_result"
    }
   ],
   "source": [
    "df_no_outliers =df[~((df < (Q1 - 1.5 * IQR)) | (df > (Q3 + 1.5 * IQR))).any(axis=1)]\n",
    "df_no_outliers.shape"
   ]
  },
  {
   "cell_type": "code",
   "execution_count": 20,
   "id": "6c6c8859",
   "metadata": {},
   "outputs": [
    {
     "data": {
      "image/png": "[encoded data removed]",
      "text/plain": [
       "<Figure size 720x576 with 1 Axes>"
      ]
     },
     "metadata": {
      "needs_background": "light"
     },
     "output_type": "display_data"
    }
   ],
   "source": [
    "#We are selecting the columns that seems to have outliers except MonthlyIncome\n",
    "plt.figure(figsize = (10,8))\n",
    "\n",
    "# plot a boxplot to visualize the outliers in all the numeric variables\n",
    "df_no_outliers.boxplot()\n",
    "\n",
    "# set plot label\n",
    "# set text size using 'fontsize'\n",
    "plt.title('Distribution of all Numeric Variables', fontsize = 15)\n",
    "\n",
    "# xticks() returns the x-axis ticks\n",
    "# 'rotation = vertical' rotates the x-axis labels vertically\n",
    "plt.xticks(rotation = 'vertical', fontsize = 15)\n",
    "\n",
    "# display the plot\n",
    "plt.show()"
   ]
  },
  {
   "cell_type": "code",
   "execution_count": 21,
   "id": "0af92aa4",
   "metadata": {},
   "outputs": [],
   "source": [
    "# we now have the data set with reduced amount of outliers."
   ]
  },
  {
   "cell_type": "markdown",
   "id": "03bec025",
   "metadata": {},
   "source": [
    "## AFTER REMOVING OUTLIERS"
   ]
  },
  {
   "cell_type": "code",
   "execution_count": 22,
   "id": "8c97190a",
   "metadata": {},
   "outputs": [],
   "source": [
    "x = df_no_outliers.drop(['House price of unit area'],axis=1)  \n",
    "y = df_no_outliers['House price of unit area']                \n",
    "Xc = sm.add_constant(x)                           \n",
    "lr_model = sm.OLS(y,Xc).fit()                    "
   ]
  },
  {
   "cell_type": "code",
   "execution_count": 23,
   "id": "d57733a6",
   "metadata": {},
   "outputs": [
    {
     "data": {
      "text/html": [
       "<table class=\"simpletable\">\n",
       "<caption>OLS Regression Results</caption>\n",
       "<tr>\n",
       "  <th>Dep. Variable:</th>    <td>House price of unit area</td> <th>  R-squared:         </th> <td>   0.554</td>\n",
       "</tr>\n",
       "<tr>\n",
       "  <th>Model:</th>                       <td>OLS</td>           <th>  Adj. R-squared:    </th> <td>   0.546</td>\n",
       "</tr>\n",
       "<tr>\n",
       "  <th>Method:</th>                 <td>Least Squares</td>      <th>  F-statistic:       </th> <td>   65.07</td>\n",
       "</tr>\n",
       "<tr>\n",
       "  <th>Date:</th>                 <td>Sun, 04 Dec 2022</td>     <th>  Prob (F-statistic):</th> <td>1.80e-60</td>\n",
       "</tr>\n",
       "<tr>\n",
       "  <th>Time:</th>                     <td>17:33:21</td>         <th>  Log-Likelihood:    </th> <td> -1326.7</td>\n",
       "</tr>\n",
       "<tr>\n",
       "  <th>No. Observations:</th>          <td>   374</td>          <th>  AIC:               </th> <td>   2669.</td>\n",
       "</tr>\n",
       "<tr>\n",
       "  <th>Df Residuals:</th>              <td>   366</td>          <th>  BIC:               </th> <td>   2701.</td>\n",
       "</tr>\n",
       "<tr>\n",
       "  <th>Df Model:</th>                  <td>     7</td>          <th>                     </th>     <td> </td>   \n",
       "</tr>\n",
       "<tr>\n",
       "  <th>Covariance Type:</th>          <td>nonrobust</td>        <th>                     </th>     <td> </td>   \n",
       "</tr>\n",
       "</table>\n",
       "<table class=\"simpletable\">\n",
       "<tr>\n",
       "                      <td></td>                        <th>coef</th>     <th>std err</th>      <th>t</th>      <th>P>|t|</th>  <th>[0.025</th>    <th>0.975]</th>  \n",
       "</tr>\n",
       "<tr>\n",
       "  <th>const</th>                                    <td>-7446.9454</td> <td> 6609.427</td> <td>   -1.127</td> <td> 0.261</td> <td>-2.04e+04</td> <td> 5550.274</td>\n",
       "</tr>\n",
       "<tr>\n",
       "  <th>House Age</th>                                <td>   -0.2986</td> <td>    0.038</td> <td>   -7.902</td> <td> 0.000</td> <td>   -0.373</td> <td>   -0.224</td>\n",
       "</tr>\n",
       "<tr>\n",
       "  <th>Distance from nearest Metro station (km)</th> <td>   -0.0091</td> <td>    0.001</td> <td>   -9.278</td> <td> 0.000</td> <td>   -0.011</td> <td>   -0.007</td>\n",
       "</tr>\n",
       "<tr>\n",
       "  <th>Number of convenience stores</th>             <td>    0.7499</td> <td>    0.189</td> <td>    3.962</td> <td> 0.000</td> <td>    0.378</td> <td>    1.122</td>\n",
       "</tr>\n",
       "<tr>\n",
       "  <th>latitude</th>                                 <td>  311.9049</td> <td>   49.427</td> <td>    6.310</td> <td> 0.000</td> <td>  214.709</td> <td>  409.101</td>\n",
       "</tr>\n",
       "<tr>\n",
       "  <th>longitude</th>                                <td>   -2.4157</td> <td>   51.760</td> <td>   -0.047</td> <td> 0.963</td> <td> -104.200</td> <td>   99.368</td>\n",
       "</tr>\n",
       "<tr>\n",
       "  <th>Number of bedrooms</th>                       <td>    0.1647</td> <td>    0.828</td> <td>    0.199</td> <td> 0.842</td> <td>   -1.464</td> <td>    1.793</td>\n",
       "</tr>\n",
       "<tr>\n",
       "  <th>House size (sqft)</th>                        <td> 5.666e-05</td> <td>    0.002</td> <td>    0.029</td> <td> 0.977</td> <td>   -0.004</td> <td>    0.004</td>\n",
       "</tr>\n",
       "</table>\n",
       "<table class=\"simpletable\">\n",
       "<tr>\n",
       "  <th>Omnibus:</th>       <td>239.752</td> <th>  Durbin-Watson:     </th> <td>   2.175</td>\n",
       "</tr>\n",
       "<tr>\n",
       "  <th>Prob(Omnibus):</th> <td> 0.000</td>  <th>  Jarque-Bera (JB):  </th> <td>4725.310</td>\n",
       "</tr>\n",
       "<tr>\n",
       "  <th>Skew:</th>          <td> 2.324</td>  <th>  Prob(JB):          </th> <td>    0.00</td>\n",
       "</tr>\n",
       "<tr>\n",
       "  <th>Kurtosis:</th>      <td>19.782</td>  <th>  Cond. No.          </th> <td>1.95e+07</td>\n",
       "</tr>\n",
       "</table><br/><br/>Notes:<br/>[1] Standard Errors assume that the covariance matrix of the errors is correctly specified.<br/>[2] The condition number is large, 1.95e+07. This might indicate that there are<br/>strong multicollinearity or other numerical problems."
      ],
      "text/plain": [
       "<class 'statsmodels.iolib.summary.Summary'>\n",
       "\"\"\"\n",
       "                               OLS Regression Results                               \n",
       "====================================================================================\n",
       "Dep. Variable:     House price of unit area   R-squared:                       0.554\n",
       "Model:                                  OLS   Adj. R-squared:                  0.546\n",
       "Method:                       Least Squares   F-statistic:                     65.07\n",
       "Date:                      Sun, 04 Dec 2022   Prob (F-statistic):           1.80e-60\n",
       "Time:                              17:33:21   Log-Likelihood:                -1326.7\n",
       "No. Observations:                       374   AIC:                             2669.\n",
       "Df Residuals:                           366   BIC:                             2701.\n",
       "Df Model:                                 7                                         \n",
       "Covariance Type:                  nonrobust                                         \n",
       "============================================================================================================\n",
       "                                               coef    std err          t      P>|t|      [0.025      0.975]\n",
       "------------------------------------------------------------------------------------------------------------\n",
       "const                                    -7446.9454   6609.427     -1.127      0.261   -2.04e+04    5550.274\n",
       "House Age                                   -0.2986      0.038     -7.902      0.000      -0.373      -0.224\n",
       "Distance from nearest Metro station (km)    -0.0091      0.001     -9.278      0.000      -0.011      -0.007\n",
       "Number of convenience stores                 0.7499      0.189      3.962      0.000       0.378       1.122\n",
       "latitude                                   311.9049     49.427      6.310      0.000     214.709     409.101\n",
       "longitude                                   -2.4157     51.760     -0.047      0.963    -104.200      99.368\n",
       "Number of bedrooms                           0.1647      0.828      0.199      0.842      -1.464       1.793\n",
       "House size (sqft)                         5.666e-05      0.002      0.029      0.977      -0.004       0.004\n",
       "==============================================================================\n",
       "Omnibus:                      239.752   Durbin-Watson:                   2.175\n",
       "Prob(Omnibus):                  0.000   Jarque-Bera (JB):             4725.310\n",
       "Skew:                           2.324   Prob(JB):                         0.00\n",
       "Kurtosis:                      19.782   Cond. No.                     1.95e+07\n",
       "==============================================================================\n",
       "\n",
       "Notes:\n",
       "[1] Standard Errors assume that the covariance matrix of the errors is correctly specified.\n",
       "[2] The condition number is large, 1.95e+07. This might indicate that there are\n",
       "strong multicollinearity or other numerical problems.\n",
       "\"\"\""
      ]
     },
     "execution_count": 23,
     "metadata": {},
     "output_type": "execute_result"
    }
   ],
   "source": [
    "lr_model.summary()"
   ]
  },
  {
   "cell_type": "raw",
   "id": "86036e1f",
   "metadata": {},
   "source": [
    "# after removing outliers we are getting a r squared value of 0.554.\n",
    "# which is less than 0.572 \n",
    "# though there is no major difference still the values are better before removing outliers , so we should not remove outliers"
   ]
  },
  {
   "cell_type": "markdown",
   "id": "f948de78",
   "metadata": {},
   "source": [
    "## SCALING THE DATA USING STANDARD SCALER"
   ]
  },
  {
   "cell_type": "code",
   "execution_count": 24,
   "id": "bb869403",
   "metadata": {},
   "outputs": [],
   "source": [
    "from sklearn.preprocessing import StandardScaler\n",
    "SS = StandardScaler()\n",
    "def pre_processing(df):\n",
    "    df_scaled = df.drop('House price of unit area', axis=1)\n",
    "    df_target=df['House price of unit area']\n",
    "    SS = StandardScaler()\n",
    "    df_scaled=pd.DataFrame(SS.fit_transform(df_scaled),index=df_scaled.index,columns=df_scaled.columns)\n",
    "    df_scaled= pd.concat([df_scaled,df_target],axis=1)\n",
    "    return df_scaled"
   ]
  },
  {
   "cell_type": "code",
   "execution_count": 25,
   "id": "13920517",
   "metadata": {},
   "outputs": [
    {
     "data": {
      "text/html": [
       "<div>\n",
       "<style scoped>\n",
       "    .dataframe tbody tr th:only-of-type {\n",
       "        vertical-align: middle;\n",
       "    }\n",
       "\n",
       "    .dataframe tbody tr th {\n",
       "        vertical-align: top;\n",
       "    }\n",
       "\n",
       "    .dataframe thead th {\n",
       "        text-align: right;\n",
       "    }\n",
       "</style>\n",
       "<table border=\"1\" class=\"dataframe\">\n",
       "  <thead>\n",
       "    <tr style=\"text-align: right;\">\n",
       "      <th></th>\n",
       "      <th>House Age</th>\n",
       "      <th>Distance from nearest Metro station (km)</th>\n",
       "      <th>Number of convenience stores</th>\n",
       "      <th>latitude</th>\n",
       "      <th>longitude</th>\n",
       "      <th>Number of bedrooms</th>\n",
       "      <th>House size (sqft)</th>\n",
       "      <th>House price of unit area</th>\n",
       "    </tr>\n",
       "  </thead>\n",
       "  <tbody>\n",
       "    <tr>\n",
       "      <th>0</th>\n",
       "      <td>1.255628</td>\n",
       "      <td>-0.792495</td>\n",
       "      <td>2.007407</td>\n",
       "      <td>1.125430</td>\n",
       "      <td>0.448762</td>\n",
       "      <td>-1.207899</td>\n",
       "      <td>-1.022920</td>\n",
       "      <td>37.9</td>\n",
       "    </tr>\n",
       "    <tr>\n",
       "      <th>1</th>\n",
       "      <td>0.157086</td>\n",
       "      <td>-0.616612</td>\n",
       "      <td>1.667503</td>\n",
       "      <td>0.912444</td>\n",
       "      <td>0.401139</td>\n",
       "      <td>0.014766</td>\n",
       "      <td>0.885321</td>\n",
       "      <td>42.2</td>\n",
       "    </tr>\n",
       "    <tr>\n",
       "      <th>2</th>\n",
       "      <td>-0.387791</td>\n",
       "      <td>-0.414015</td>\n",
       "      <td>0.307885</td>\n",
       "      <td>1.486860</td>\n",
       "      <td>0.688183</td>\n",
       "      <td>1.237432</td>\n",
       "      <td>0.368804</td>\n",
       "      <td>47.3</td>\n",
       "    </tr>\n",
       "    <tr>\n",
       "      <th>3</th>\n",
       "      <td>-0.387791</td>\n",
       "      <td>-0.414015</td>\n",
       "      <td>0.307885</td>\n",
       "      <td>1.486860</td>\n",
       "      <td>0.688183</td>\n",
       "      <td>0.014766</td>\n",
       "      <td>-0.162059</td>\n",
       "      <td>54.8</td>\n",
       "    </tr>\n",
       "    <tr>\n",
       "      <th>4</th>\n",
       "      <td>-1.117223</td>\n",
       "      <td>-0.549997</td>\n",
       "      <td>0.307885</td>\n",
       "      <td>0.834188</td>\n",
       "      <td>0.592937</td>\n",
       "      <td>-1.207899</td>\n",
       "      <td>-1.263960</td>\n",
       "      <td>43.1</td>\n",
       "    </tr>\n",
       "  </tbody>\n",
       "</table>\n",
       "</div>"
      ],
      "text/plain": [
       "   House Age  Distance from nearest Metro station (km)  \\\n",
       "0   1.255628                                 -0.792495   \n",
       "1   0.157086                                 -0.616612   \n",
       "2  -0.387791                                 -0.414015   \n",
       "3  -0.387791                                 -0.414015   \n",
       "4  -1.117223                                 -0.549997   \n",
       "\n",
       "   Number of convenience stores  latitude  longitude  Number of bedrooms  \\\n",
       "0                      2.007407  1.125430   0.448762           -1.207899   \n",
       "1                      1.667503  0.912444   0.401139            0.014766   \n",
       "2                      0.307885  1.486860   0.688183            1.237432   \n",
       "3                      0.307885  1.486860   0.688183            0.014766   \n",
       "4                      0.307885  0.834188   0.592937           -1.207899   \n",
       "\n",
       "   House size (sqft)  House price of unit area  \n",
       "0          -1.022920                      37.9  \n",
       "1           0.885321                      42.2  \n",
       "2           0.368804                      47.3  \n",
       "3          -0.162059                      54.8  \n",
       "4          -1.263960                      43.1  "
      ]
     },
     "execution_count": 25,
     "metadata": {},
     "output_type": "execute_result"
    }
   ],
   "source": [
    "df_scaled=pre_processing(df)\n",
    "df_scaled.head()"
   ]
  },
  {
   "cell_type": "markdown",
   "id": "fb700126",
   "metadata": {},
   "source": [
    "## AFTER SCALING"
   ]
  },
  {
   "cell_type": "code",
   "execution_count": 26,
   "id": "abc367d4",
   "metadata": {},
   "outputs": [],
   "source": [
    "x = df_scaled.drop(['House price of unit area'],axis=1)  \n",
    "y = df_scaled['House price of unit area']               \n",
    "Xc = sm.add_constant(x)                           \n",
    "lr_model = sm.OLS(y,Xc).fit()                    "
   ]
  },
  {
   "cell_type": "code",
   "execution_count": 27,
   "id": "9c10f6cd",
   "metadata": {},
   "outputs": [
    {
     "data": {
      "text/html": [
       "<table class=\"simpletable\">\n",
       "<caption>OLS Regression Results</caption>\n",
       "<tr>\n",
       "  <th>Dep. Variable:</th>    <td>House price of unit area</td> <th>  R-squared:         </th> <td>   0.572</td>\n",
       "</tr>\n",
       "<tr>\n",
       "  <th>Model:</th>                       <td>OLS</td>           <th>  Adj. R-squared:    </th> <td>   0.564</td>\n",
       "</tr>\n",
       "<tr>\n",
       "  <th>Method:</th>                 <td>Least Squares</td>      <th>  F-statistic:       </th> <td>   77.37</td>\n",
       "</tr>\n",
       "<tr>\n",
       "  <th>Date:</th>                 <td>Sun, 04 Dec 2022</td>     <th>  Prob (F-statistic):</th> <td>8.50e-71</td>\n",
       "</tr>\n",
       "<tr>\n",
       "  <th>Time:</th>                     <td>17:33:21</td>         <th>  Log-Likelihood:    </th> <td> -1492.3</td>\n",
       "</tr>\n",
       "<tr>\n",
       "  <th>No. Observations:</th>          <td>   414</td>          <th>  AIC:               </th> <td>   3001.</td>\n",
       "</tr>\n",
       "<tr>\n",
       "  <th>Df Residuals:</th>              <td>   406</td>          <th>  BIC:               </th> <td>   3033.</td>\n",
       "</tr>\n",
       "<tr>\n",
       "  <th>Df Model:</th>                  <td>     7</td>          <th>                     </th>     <td> </td>   \n",
       "</tr>\n",
       "<tr>\n",
       "  <th>Covariance Type:</th>          <td>nonrobust</td>        <th>                     </th>     <td> </td>   \n",
       "</tr>\n",
       "</table>\n",
       "<table class=\"simpletable\">\n",
       "<tr>\n",
       "                      <td></td>                        <th>coef</th>     <th>std err</th>      <th>t</th>      <th>P>|t|</th>  <th>[0.025</th>    <th>0.975]</th>  \n",
       "</tr>\n",
       "<tr>\n",
       "  <th>const</th>                                    <td>   37.9802</td> <td>    0.441</td> <td>   86.030</td> <td> 0.000</td> <td>   37.112</td> <td>   38.848</td>\n",
       "</tr>\n",
       "<tr>\n",
       "  <th>House Age</th>                                <td>   -3.0376</td> <td>    0.446</td> <td>   -6.805</td> <td> 0.000</td> <td>   -3.915</td> <td>   -2.160</td>\n",
       "</tr>\n",
       "<tr>\n",
       "  <th>Distance from nearest Metro station (km)</th> <td>   -5.4058</td> <td>    0.916</td> <td>   -5.899</td> <td> 0.000</td> <td>   -7.207</td> <td>   -3.604</td>\n",
       "</tr>\n",
       "<tr>\n",
       "  <th>Number of convenience stores</th>             <td>    3.4049</td> <td>    0.561</td> <td>    6.065</td> <td> 0.000</td> <td>    2.301</td> <td>    4.509</td>\n",
       "</tr>\n",
       "<tr>\n",
       "  <th>latitude</th>                                 <td>    2.9313</td> <td>    0.559</td> <td>    5.245</td> <td> 0.000</td> <td>    1.833</td> <td>    4.030</td>\n",
       "</tr>\n",
       "<tr>\n",
       "  <th>longitude</th>                                <td>   -0.1319</td> <td>    0.755</td> <td>   -0.175</td> <td> 0.861</td> <td>   -1.616</td> <td>    1.353</td>\n",
       "</tr>\n",
       "<tr>\n",
       "  <th>Number of bedrooms</th>                       <td>   -0.1360</td> <td>    0.673</td> <td>   -0.202</td> <td> 0.840</td> <td>   -1.460</td> <td>    1.188</td>\n",
       "</tr>\n",
       "<tr>\n",
       "  <th>House size (sqft)</th>                        <td>    0.3554</td> <td>    0.675</td> <td>    0.527</td> <td> 0.599</td> <td>   -0.972</td> <td>    1.683</td>\n",
       "</tr>\n",
       "</table>\n",
       "<table class=\"simpletable\">\n",
       "<tr>\n",
       "  <th>Omnibus:</th>       <td>237.529</td> <th>  Durbin-Watson:     </th> <td>   2.148</td>\n",
       "</tr>\n",
       "<tr>\n",
       "  <th>Prob(Omnibus):</th> <td> 0.000</td>  <th>  Jarque-Bera (JB):  </th> <td>3628.444</td>\n",
       "</tr>\n",
       "<tr>\n",
       "  <th>Skew:</th>          <td> 2.105</td>  <th>  Prob(JB):          </th> <td>    0.00</td>\n",
       "</tr>\n",
       "<tr>\n",
       "  <th>Kurtosis:</th>      <td>16.879</td>  <th>  Cond. No.          </th> <td>    4.23</td>\n",
       "</tr>\n",
       "</table><br/><br/>Notes:<br/>[1] Standard Errors assume that the covariance matrix of the errors is correctly specified."
      ],
      "text/plain": [
       "<class 'statsmodels.iolib.summary.Summary'>\n",
       "\"\"\"\n",
       "                               OLS Regression Results                               \n",
       "====================================================================================\n",
       "Dep. Variable:     House price of unit area   R-squared:                       0.572\n",
       "Model:                                  OLS   Adj. R-squared:                  0.564\n",
       "Method:                       Least Squares   F-statistic:                     77.37\n",
       "Date:                      Sun, 04 Dec 2022   Prob (F-statistic):           8.50e-71\n",
       "Time:                              17:33:21   Log-Likelihood:                -1492.3\n",
       "No. Observations:                       414   AIC:                             3001.\n",
       "Df Residuals:                           406   BIC:                             3033.\n",
       "Df Model:                                 7                                         \n",
       "Covariance Type:                  nonrobust                                         \n",
       "============================================================================================================\n",
       "                                               coef    std err          t      P>|t|      [0.025      0.975]\n",
       "------------------------------------------------------------------------------------------------------------\n",
       "const                                       37.9802      0.441     86.030      0.000      37.112      38.848\n",
       "House Age                                   -3.0376      0.446     -6.805      0.000      -3.915      -2.160\n",
       "Distance from nearest Metro station (km)    -5.4058      0.916     -5.899      0.000      -7.207      -3.604\n",
       "Number of convenience stores                 3.4049      0.561      6.065      0.000       2.301       4.509\n",
       "latitude                                     2.9313      0.559      5.245      0.000       1.833       4.030\n",
       "longitude                                   -0.1319      0.755     -0.175      0.861      -1.616       1.353\n",
       "Number of bedrooms                          -0.1360      0.673     -0.202      0.840      -1.460       1.188\n",
       "House size (sqft)                            0.3554      0.675      0.527      0.599      -0.972       1.683\n",
       "==============================================================================\n",
       "Omnibus:                      237.529   Durbin-Watson:                   2.148\n",
       "Prob(Omnibus):                  0.000   Jarque-Bera (JB):             3628.444\n",
       "Skew:                           2.105   Prob(JB):                         0.00\n",
       "Kurtosis:                      16.879   Cond. No.                         4.23\n",
       "==============================================================================\n",
       "\n",
       "Notes:\n",
       "[1] Standard Errors assume that the covariance matrix of the errors is correctly specified.\n",
       "\"\"\""
      ]
     },
     "execution_count": 27,
     "metadata": {},
     "output_type": "execute_result"
    }
   ],
   "source": [
    "lr_model.summary()"
   ]
  },
  {
   "cell_type": "raw",
   "id": "cdcf503d",
   "metadata": {},
   "source": [
    "There is no difference in r squared value ,keeping the scaled data. But only 56.4% of the variance in the house prices can be explained by the independent variables. The model is not much robust."
   ]
  },
  {
   "cell_type": "markdown",
   "id": "11b78dc2",
   "metadata": {},
   "source": [
    "## VIF"
   ]
  },
  {
   "cell_type": "code",
   "execution_count": 29,
   "id": "7e7cb323",
   "metadata": {},
   "outputs": [
    {
     "name": "stdout",
     "output_type": "stream",
     "text": [
      "                                    feature       VIF\n",
      "0                                 House Age  1.022479\n",
      "1  Distance from nearest Metro station (km)  4.308998\n",
      "2              Number of convenience stores  1.617328\n",
      "3                                  latitude  1.602561\n",
      "4                                 longitude  2.926037\n",
      "5                        Number of bedrooms  2.326443\n",
      "6                         House size (sqft)  2.338321\n"
     ]
    }
   ],
   "source": [
    "x = df_scaled.drop(['House price of unit area'],axis=1)  \n",
    "y = df_scaled['House price of unit area']     \n",
    "\n",
    "X = sm.add_constant(x)\n",
    "\n",
    "\n",
    "\n",
    "from statsmodels.stats.outliers_influence import variance_inflation_factor\n",
    "  \n",
    "# the independent variables set\n",
    "X1 = X[['House Age', 'Distance from nearest Metro station (km)','Number of convenience stores',\n",
    "       'latitude','longitude','Number of bedrooms','House size (sqft)']]\n",
    "  \n",
    "# VIF dataframe\n",
    "vif_data = pd.DataFrame()\n",
    "vif_data[\"feature\"] = X1.columns\n",
    "  \n",
    "# calculating VIF for each feature\n",
    "vif_data[\"VIF\"] = [variance_inflation_factor(X1.values, i)\n",
    "                          for i in range(len(X1.columns))]\n",
    "  \n",
    "print(vif_data)"
   ]
  },
  {
   "cell_type": "raw",
   "id": "7743836e",
   "metadata": {},
   "source": [
    "No value is greater than 5 hence not doing anything about it."
   ]
  },
  {
   "cell_type": "markdown",
   "id": "3113118d",
   "metadata": {},
   "source": [
    "## SPLITTING THE DATASET INTO TRAIN TEST"
   ]
  },
  {
   "cell_type": "code",
   "execution_count": 62,
   "id": "bb56763a",
   "metadata": {},
   "outputs": [],
   "source": [
    "from sklearn.model_selection import train_test_split\n",
    "from sklearn.metrics import r2_score\n",
    "from sklearn.linear_model import LinearRegression\n",
    "from sklearn.tree import DecisionTreeRegressor\n",
    "from sklearn.ensemble import RandomForestRegressor\n",
    "from sklearn.metrics import explained_variance_score\n",
    "from sklearn.metrics import confusion_matrix\n",
    "\n",
    "x = df_scaled.drop(['House price of unit area'],axis=1)  \n",
    "y = df_scaled['House price of unit area']\n",
    "X_train, X_test,y_train, y_test = train_test_split(x,y ,random_state=1, test_size=0.20, shuffle=True)"
   ]
  },
  {
   "cell_type": "markdown",
   "id": "e3bf65b8",
   "metadata": {},
   "source": [
    "## OLS"
   ]
  },
  {
   "cell_type": "code",
   "execution_count": 88,
   "id": "87270c15",
   "metadata": {},
   "outputs": [
    {
     "data": {
      "text/plain": [
       "0.564160306150935"
      ]
     },
     "execution_count": 88,
     "metadata": {},
     "output_type": "execute_result"
    }
   ],
   "source": [
    "Xc = sm.add_constant(x)                          \n",
    "ols_model = sm.OLS(y,Xc).fit() \n",
    "explained_ols = ols_model.rsquared_adj\n",
    "explained_ols"
   ]
  },
  {
   "cell_type": "markdown",
   "id": "ae940e3f",
   "metadata": {},
   "source": [
    "## LINEAR REGRESSION MODEL"
   ]
  },
  {
   "cell_type": "code",
   "execution_count": 77,
   "id": "14859ea1",
   "metadata": {},
   "outputs": [
    {
     "data": {
      "text/plain": [
       "0.6373077961527951"
      ]
     },
     "execution_count": 77,
     "metadata": {},
     "output_type": "execute_result"
    }
   ],
   "source": [
    "\n",
    "lr_model = LinearRegression().fit(X_train, y_train)\n",
    "lr_model.score(X_test,y_test)\n",
    "y_pred = lr_model.predict(X_test)\n",
    "explained_lr = explained_variance_score(y_pred,y_test)\n",
    "explained_lr"
   ]
  },
  {
   "cell_type": "markdown",
   "id": "43fe275b",
   "metadata": {},
   "source": [
    "## DECISION TREE REGRESSOR"
   ]
  },
  {
   "cell_type": "code",
   "execution_count": 79,
   "id": "d8d42421",
   "metadata": {},
   "outputs": [
    {
     "data": {
      "text/plain": [
       "0.7109461924824233"
      ]
     },
     "execution_count": 79,
     "metadata": {},
     "output_type": "execute_result"
    }
   ],
   "source": [
    "dt_regressor = DecisionTreeRegressor(random_state=0)\n",
    "dt_regressor.fit(X_train,y_train)\n",
    "dt_regressor.score(X_test,y_test)\n",
    "pred_dt = dt_regressor.predict(X_test)\n",
    "decision_score=dt_regressor.score(X_test,y_test)\n",
    "explained_dt = explained_variance_score(pred_tr,y_test)\n",
    "explained_dt"
   ]
  },
  {
   "cell_type": "markdown",
   "id": "1e35d890",
   "metadata": {},
   "source": [
    "## RANDOM FOREST REGRESSOR"
   ]
  },
  {
   "cell_type": "code",
   "execution_count": 80,
   "id": "4b6f1a62",
   "metadata": {},
   "outputs": [
    {
     "data": {
      "text/plain": [
       "0.7478545456010812"
      ]
     },
     "execution_count": 80,
     "metadata": {},
     "output_type": "execute_result"
    }
   ],
   "source": [
    "rf_regressor = RandomForestRegressor(n_estimators=28,random_state=0)\n",
    "rf_regressor.fit(X_train,y_train)\n",
    "rf_regressor.score(X_test,y_test)\n",
    "rf_pred =rf_regressor.predict(X_test)\n",
    "rf_score=rf_regressor.score(X_test,y_test)\n",
    "explained_rf = explained_variance_score(rf_pred,y_test)\n",
    "explained_rf"
   ]
  },
  {
   "cell_type": "code",
   "execution_count": 89,
   "id": "f8cb3f91",
   "metadata": {},
   "outputs": [
    {
     "name": "stdout",
     "output_type": "stream",
     "text": [
      "Ordinary Least Squares Method Score is  56\n",
      "Linear  Regression Model Score is  64\n",
      "Decision tree  Regression Model Score is  71\n",
      "Random Forest Regression Model Score is  75\n"
     ]
    }
   ],
   "source": [
    "print(\"Ordinary Least Squares Method Score is \",round(explained_ols*100))\n",
    "print(\"Linear  Regression Model Score is \",round(explained_lr*100))\n",
    "print(\"Decision tree  Regression Model Score is \",round(explained_dt*100))\n",
    "print(\"Random Forest Regression Model Score is \",round(explained_rf*100))"
   ]
  },
  {
   "cell_type": "raw",
   "id": "a3dbdb0a",
   "metadata": {},
   "source": [
    "As 75% of variance is explained by the Random forset regressor .Which is the highest of all .\n",
    "Hence choosing random forset model as a good model."
   ]
  },
  {
   "cell_type": "code",
   "execution_count": null,
   "id": "56981fff",
   "metadata": {},
   "outputs": [],
   "source": []
  }
 ],
 "metadata": {
  "kernelspec": {
   "display_name": "Python 3 (ipykernel)",
   "language": "python",
   "name": "python3"
  },
  "language_info": {
   "codemirror_mode": {
    "name": "ipython",
    "version": 3
   },
   "file_extension": ".py",
   "mimetype": "text/x-python",
   "name": "python",
   "nbconvert_exporter": "python",
   "pygments_lexer": "ipython3",
   "version": "3.9.12"
  }
 },
 "nbformat": 4,
 "nbformat_minor": 5
}
